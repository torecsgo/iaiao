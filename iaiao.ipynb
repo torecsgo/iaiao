{
 "cells": [
  {
   "cell_type": "code",
   "execution_count": 1,
   "id": "84996e28",
   "metadata": {},
   "outputs": [
    {
     "name": "stderr",
     "output_type": "stream",
     "text": [
      "c:\\Users\\Tore\\anaconda3\\envs\\ollama-env\\lib\\site-packages\\tqdm\\auto.py:21: TqdmWarning: IProgress not found. Please update jupyter and ipywidgets. See https://ipywidgets.readthedocs.io/en/stable/user_install.html\n",
      "  from .autonotebook import tqdm as notebook_tqdm\n"
     ]
    }
   ],
   "source": [
    "import fitz\n",
    "from Ollama import OllamaClient\n",
    "from RAG import RAG"
   ]
  },
  {
   "cell_type": "code",
   "execution_count": 3,
   "id": "718fdb82",
   "metadata": {},
   "outputs": [],
   "source": [
    "def get_full_text(archivo: str = \"./docs/codigo_penal.pdf\"):\n",
    "    text = \"\"\n",
    "    reader = fitz.open(archivo)\n",
    "    for page in reader:\n",
    "        text += page.get_text()\n",
    "        text += '\\n'\n",
    "    return text"
   ]
  },
  {
   "cell_type": "code",
   "execution_count": 4,
   "id": "97325249",
   "metadata": {},
   "outputs": [],
   "source": [
    "MODEL = \"llama3.2\"\n",
    "ollama = OllamaClient(model=MODEL)"
   ]
  },
  {
   "cell_type": "code",
   "execution_count": 5,
   "id": "c5164f22",
   "metadata": {},
   "outputs": [],
   "source": [
    "corpus = get_full_text()\n",
    "rag = RAG(corpus=corpus)"
   ]
  },
  {
   "cell_type": "code",
   "execution_count": 6,
   "id": "c314124c",
   "metadata": {},
   "outputs": [
    {
     "name": "stdout",
     "output_type": "stream",
     "text": [
      "pos­ terior al de una pena, el plazo se computará desde la extin­ ción de ésta. CAPÍTULO II. De la cancelación de antecedentes delictivos Artículo 136 1. Los condenados que hayan extinguido su responsabilidad penal tienen derecho a obtener del Ministerio de Justicia, de oficio o a instancia de parte, la cancelación de sus ante­ cedentes penales, cuando hayan transcurrido sin haber vuelto a delinquir los siguientes plazos: a) Seis meses para las penas leves. b) Dos años para las penas que no excedan de doce meses y las impuestas por delitos imprudentes. c) Tres años para las restantes penas menos graves infe­ riores a tres años. d) Cinco años para las restantes penas menos graves igua­ les o superiores a tres años. e) Diez años para las penas graves. 2. Los plazos a que se refiere el apartado anterior se contarán desde el día siguiente a aquel en que quedara extinguida la pena, pero si ello ocurriese mediante la remisión condicio­ nal, el plazo, una vez obtenida la remisión definitiva, se com­ putará retrotrayéndolo al día siguiente a aquel en que hubiere quedado cumplida la pena si no se hubiere disfru­ tado de este beneficio. En este caso, se tomará como fecha 108 inicial para el cómputo de la duración de la pena el día siguiente al del otorgamiento de la suspensión. 3. Las penas impuestas a las personas jurídicas y las conse­ cuencias accesorias del artículo 129 se cancelarán en el plazo que corresponda, de acuerdo con la regla prevista en el apartado 1 de este artículo, salvo que se hubiese acor­ dado la disolución o la prohibición definitiva de actividades. En estos casos, se cancelarán las anotaciones transcurridos cincuenta años computados desde el día siguiente a la fir­ meza de la sentencia. 4. Las inscripciones de antecedentes penales en las distintas secciones del Registro Central de Penados y Rebeldes no serán públicas. Durante su vigencia solo se emitirán certifi­ caciones con las limitaciones y garantías previstas en sus normas específicas y en los casos establecidos por la ley. En todo caso, se librarán las que soliciten los jueces o tribuna­ les, se refieran o no a inscripciones canceladas, haciendo constar expresamente esta última circunstancia. 5. En los casos en que, a pesar de cumplirse los requisitos esta­ blecidos en este artículo para la cancelación, ésta no se haya producido, el juez o tribunal, acreditadas tales circunstan­ cias, no tendrá en cuenta dichos antecedentes. Artículo 137 Las anotaciones de las medidas de seguridad impuestas con­ forme a lo dispuesto en este Código o en otras leyes penales serán canceladas una vez cumplida o prescrita la respectiva medida; mientras tanto, sólo figurarán en las certificaciones que el Registro expida con destino a Jueces o Tribunales o autorida­ des administrativas, en los casos establecidos por la Ley. LIBRO II. Delitos y sus penas TÍTULO I. Del homicidio y sus formas Artículo 138 1. El que matare a otro será castigado, como reo de homicidio, con la pena de prisión de\n",
      "\n",
      "Artículo 173 1. El que infligiera a otra persona un trato degradante, menos­ cabando gravemente su integridad moral, será castigado con la pena de prisión de seis meses a dos años. Igual pena se impondrá a quienes, teniendo conocimiento del paradero del cadáver de una persona, oculten de modo reite­ rado tal información a los familiares o allegados de la misma. Con la misma pena serán castigados los que, en el ámbito de cualquier relación laboral o funcionarial y prevaliéndose de su relación de superioridad, realicen contra otro de forma reite­ rada actos hostiles o humillantes que, sin llegar a constituir trato degradante, supongan grave acoso contra la víctima. Se impondrá también la misma pena al que de forma reite­ rada lleve a cabo actos hostiles o humillantes que, sin llegar a constituir trato degradante, tengan por objeto impedir el legítimo disfrute de la vivienda. Cuando de acuerdo con lo establecido en el artículo 31 bis, una persona jurídica sea responsable de los delitos com­ prendidos en los párrafos anteriores, se le impondrá la pena de multa de seis meses a dos años. Atendidas las reglas establecidas en el artículo 66 bis, los Jueces y Tribunales podrán asimismo imponer las penas recogidas en las letras b) a g) del apartado 7 del artículo 33. 2. El que habitualmente ejerza violencia física o psíquica sobre quien sea o haya sido su cónyuge o sobre persona que esté o haya estado ligada a él por una análoga relación de afecti­ 134 vidad aun sin convivencia, o sobre los descendientes, ascen­ dientes o hermanos por naturaleza, adopción o afinidad, propios o del cónyuge o conviviente, o sobre los menores o personas con discapacidad necesitadas de especial protec­ ción que con él convivan o que se hallen sujetos a la potestad, tutela, curatela, acogimiento o guarda de hecho del cónyuge o conviviente, o sobre persona amparada en cualquier otra relación por la que se encuentre integrada en el núcleo de su convivencia familiar, así como sobre las personas que por su especial vulnerabilidad se encuentran sometidas a custodia o guarda en centros públicos o privados, será castigado con la pena de prisión de seis meses a tres años, privación del dere­ cho a la tenencia y porte de armas de tres a cinco años y, en su caso, cuando el juez o tribunal lo estime adecuado al inte­ rés del menor o persona con discapacidad necesitada de especial protección, inhabilitación especial para el ejercicio de la patria potestad, tutela, curatela, guarda o acogimiento por tiempo de uno a cinco años, sin perjuicio de las penas que pudieran corresponder a los delitos en que se hubieran concretado los actos de violencia física o psíquica. Se impondrán las penas en su mitad superior cuando alguno o algunos de los actos de violencia se perpetren en presen­ cia de menores, o utilizando armas, o tengan lugar en el domicilio común o en el domicilio de la víctima, o se realicen quebrantando una pena de las contempladas en\n",
      "\n",
      "en ejecución de un plan preconcebido o aprovechando idén­ 59 tica ocasión, realice una pluralidad de acciones u omisiones que ofendan a uno o varios sujetos e infrinjan el mismo pre­ cepto penal o preceptos de igual o semejante naturaleza, será castigado como autor de un delito o falta continuados con la pena señalada para la infracción más grave, que se impondrá en su mitad superior, pudiendo llegar hasta la mitad inferior de la pena superior en grado. 2. Si se tratare de infracciones contra el patrimonio, se impon­ drá la pena teniendo en cuenta el perjuicio total causado. En estas infracciones el Juez o Tribunal impondrá, motivada­ mente, la pena superior en uno o dos grados, en la extensión que estime conveniente, si el hecho revistiere notoria grave­ dad y hubiere perjudicado a una generalidad de personas. 3. Quedan exceptuadas de lo establecido en los apartados anteriores las ofensas a bienes eminentemente personales, salvo las constitutivas de infracciones contra el honor y la libertad e indemnidad sexuales que afecten al mismo sujeto pasivo. En estos casos, se atenderá a la naturaleza del hecho y del precepto infringido para aplicar o no la continuidad delictiva. Artículo 75 Cuando todas o algunas de las penas correspondientes a las diversas infracciones no puedan ser cumplidas simultáneamente por el condenado, se seguirá el orden de su respectiva grave­ dad para su cumplimiento sucesivo, en cuanto sea posible. Artículo 76 1. No obstante lo dispuesto en el artículo anterior, el máximo de cumplimiento efectivo de la condena del culpable no podrá exceder del triple del tiempo por el que se le imponga la más grave de las penas en que haya incurrido, declarando extinguidas las que procedan desde que las ya impuestas cubran dicho máximo, que no podrá exceder de 20 años. Excepcionalmente, este límite máximo será: a) De 25 años, cuando el sujeto haya sido condenado por dos o más delitos y alguno de ellos esté castigado por la ley con pena de prisión de hasta 20 años. 60 b) De 30 años, cuando el sujeto haya sido condenado por dos o más delitos y alguno de ellos esté castigado por la ley con pena de prisión superior a 20 años. c) De 40 años, cuando el sujeto haya sido condenado por dos o más delitos y, al menos, dos de ellos estén casti­ gados por la ley con pena de prisión superior a 20 años. d) De 40 años, cuando el sujeto haya sido condenado por dos o más delitos referentes a organizaciones y grupos terroristas y delitos de terrorismo del Capítulo VII del Título XXII del Libro II de este Código y alguno de ellos esté castigado por la ley con pena de prisión superior a 20 años. e) Cuando el sujeto haya sido condenado por dos o más delitos y, al menos, uno de ellos esté castigado por la ley con pena de prisión permanente revisable, se estará a lo dispuesto en los artículos 92 y 78 bis. 2. La\n",
      "==================================================\n",
      "Respuesta: Lo siento, pero no tengo información sobre la pena para aborto en el texto proporcionado. La ley y las penas pueden variar significativamente entre países y regiones, y este texto parece ser una versión del Código Penal español, que no incluye una sección específica sobre el aborto o su penalización. Si necesitas información sobre la legislación específica de un país o región respecto al aborto, te recomendaría consultar fuentes oficiales o jurídicas de ese lugar.\n",
      "\n",
      "No se ha ingresado ninguna pregunta. Terminando...\n"
     ]
    }
   ],
   "source": [
    "while True:\n",
    "    # Pedir al usuario que ingrese una pregunta\n",
    "    query = input(\"Introduce tu pregunta: \")\n",
    "    \n",
    "    # Si el usuario no ingresa nada, salimos del bucle\n",
    "    if not query.strip():\n",
    "        print(\"No se ha ingresado ninguna pregunta. Terminando...\")\n",
    "        break\n",
    "\n",
    "    # Obtener el embedding de la consulta\n",
    "    query_embedding = rag.get_embedding(query)\n",
    "\n",
    "    # Buscar los chunks más cercanos basados en la similitud del embedding\n",
    "    resultados = rag.get_closest_reply(query_embedding)\n",
    "\n",
    "    # Combinar los 3 mejores textos en uno solo\n",
    "    textos_combinados = \"\\n\\n\".join([resultado[2] for resultado in resultados[0:3]])\n",
    "    print(textos_combinados)\n",
    "    print(\"=\"*50)\n",
    "\n",
    "    # Crear el prompt con los textos combinados\n",
    "    CONTENT = f'''Dado el siguiente texto del Código Penal Español, responde la pregunta usando únicamente la información proporcionada. No añadas detalles externos, no hagas suposiciones y no inventes información. Si la respuesta no está en el texto, responde \"No hay suficiente información en el texto para responder\".\n",
    "    Texto:\n",
    "    {textos_combinados}\n",
    "\n",
    "    Pregunta:\n",
    "    {query}\n",
    "\n",
    "    Recuerda: si la respuesta no se encuentra en el texto, indica que no hay suficiente información.'''\n",
    "\n",
    "    # Llamada al modelo\n",
    "    respuesta = ollama.generate(CONTENT)\n",
    "    print(f\"Respuesta: {respuesta}\\n\")"
   ]
  }
 ],
 "metadata": {
  "kernelspec": {
   "display_name": "ollama-env",
   "language": "python",
   "name": "python3"
  },
  "language_info": {
   "codemirror_mode": {
    "name": "ipython",
    "version": 3
   },
   "file_extension": ".py",
   "mimetype": "text/x-python",
   "name": "python",
   "nbconvert_exporter": "python",
   "pygments_lexer": "ipython3",
   "version": "3.10.16"
  }
 },
 "nbformat": 4,
 "nbformat_minor": 5
}
